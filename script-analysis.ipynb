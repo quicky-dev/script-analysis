{
 "cells": [
  {
   "cell_type": "code",
   "execution_count": 1,
   "metadata": {},
   "outputs": [],
   "source": [
    "import pandas as pd\n",
    "import os\n",
    "from preparation.data_preparation import ScriptInterpreter"
   ]
  },
  {
   "cell_type": "markdown",
   "metadata": {},
   "source": [
    "### Interpret the scripts"
   ]
  },
  {
   "cell_type": "code",
   "execution_count": 2,
   "metadata": {},
   "outputs": [],
   "source": [
    "interpreter = ScriptInterpreter()\n",
    "interpreter.read_macos_files('preparation/scripts/macos')\n",
    "interpreter.read_ubuntu_files('preparation/scripts/ubuntu')"
   ]
  },
  {
   "cell_type": "markdown",
   "metadata": {},
   "source": [
    "### Display all of the packages from each script"
   ]
  },
  {
   "cell_type": "code",
   "execution_count": 3,
   "metadata": {},
   "outputs": [
    {
     "name": "stdout",
     "output_type": "stream",
     "text": [
      "{'atom', 'heroku', 'postman', 'mongodb', 'sublime-text', 'google-chrome', 'zsh', 'java', 'iterm2'}\n",
      "{'docker', 'atom', 'heroku', 'mongodb', 'opera', 'zsh', 'rust', 'go', 'python', 'iterm2'}\n",
      "{'atom', 'fish', 'mongodb', 'google-chrome', 'hyper', 'python', 'mactex'}\n",
      "{'docker', 'atom', 'fish', 'node', 'postman', 'mongodb', 'zsh', 'rust', 'google-chrome', 'sublime-text', 'vim', 'hyper', 'caffeine', 'go', 'python', 'heroku'}\n",
      "{'node'}\n",
      "{'fish', 'node', 'rust', 'google-chrome', 'go', 'python', 'iterm2'}\n",
      "{'fish', 'node', 'hyper', 'go', 'python', 'iterm2'}\n",
      "{'ruby', 'fish', 'heroku', 'node', 'mongodb', 'rust', 'google-chrome', 'macvim', 'insomnia', 'hyper', 'go', 'python', 'java'}\n",
      "{'node'}\n",
      "{'go', 'hyper', 'fish'}\n",
      "{'docker', 'heroku'}\n",
      "{'node', 'zsh', 'google-chrome', 'caffeine', 'flux', 'go', 'python', 'iterm2'}\n",
      "{'visual-studio-code', 'ruby', 'heroku', 'mongodb', 'zsh', 'google-chrome', 'vagrant', 'python', 'java'}\n",
      "{'firefox', 'visual-studio-code', 'heroku', 'postman', 'mongodb', 'zsh', 'google-chrome', 'vim', 'cheatsheet', 'flux', 'go', 'python', 'iterm2'}\n",
      "{'node'}\n",
      "{'node'}\n",
      "{'java'}\n",
      "{'atom', 'fish', 'mongodb', 'google-chrome', 'hyper', 'python', 'mactex'}\n",
      "{'firefox', 'atom', 'ruby', 'fish', 'node', 'rust', 'go', 'ngrok', 'python', 'iterm2'}\n",
      "{'docker', 'visual-studio-code', 'heroku', 'node', 'mongodb', 'zsh', 'google-chrome', 'java', 'python', 'iterm2'}\n",
      "{'nodejs', 'google-chrome-stable', 'code', 'torbrowser-launcher', 'postman', 'mongodb', 'zsh', 'curl', 'apt-transport-https', 'docker.io', 'python3.6', 'software-properties-common', 'vim', 'heroku'}\n",
      "{'software-properties-common', 'curl'}\n",
      "{'nodejs', 'default-jdk', 'tilda', 'build-essential', 'torbrowser-launcher', 'default-jre', 'curl', 'apt-transport-https', 'software-properties-common', 'guake'}\n",
      "{'nodejs', 'default-jdk', 'tilda', 'default-jre', 'curl', 'python3.6', 'software-properties-common', 'eterm', 'ruby-full'}\n",
      "set()\n",
      "set()\n",
      "{'./vagrant_2.2.6_x86_64.deb', 'tilda', 'build-essential', 'code', 'torbrowser-launcher', 'vlc', 'mongodb', 'zsh', 'curl', 'apt-transport-https', 'insomnia', 'software-properties-common', 'guake', 'ruby-full'}\n",
      "{'software-properties-common', 'curl'}\n",
      "{'default-jdk', 'build-essential', 'default-jre', 'terminator', 'curl', 'python3.6', 'software-properties-common', 'guake', 'ruby-full'}\n",
      "{'nodejs', 'default-jdk', 'build-essential', 'code', 'default-jre', 'curl', 'apt-transport-https', 'software-properties-common', 'ruby-full'}\n",
      "{'nodejs', 'build-essential', 'curl', 'software-properties-common', 'ruby-full'}\n",
      "{'software-properties-common', 'curl'}\n",
      "set()\n",
      "{'software-properties-common', 'curl'}\n",
      "{'tilda', 'build-essential', 'fish', 'sublime-text', 'curl', 'vim', 'software-properties-common', 'guake', 'ruby-full'}\n",
      "{'default-jdk', 'tilda', 'default-jre', 'curl', 'software-properties-common'}\n",
      "{'google-chrome-stable', 'curl', 'python3.6', 'software-properties-common', 'vim'}\n"
     ]
    }
   ],
   "source": [
    "for script_data in interpreter.data:\n",
    "    print(script_data.packages)"
   ]
  },
  {
   "cell_type": "markdown",
   "metadata": {},
   "source": [
    "### Some more information:"
   ]
  },
  {
   "cell_type": "code",
   "execution_count": 10,
   "metadata": {},
   "outputs": [
    {
     "name": "stdout",
     "output_type": "stream",
     "text": [
      "Number of scripts: 37\n",
      "Number of unique packages: 47\n",
      "Packages:\n",
      "apt-transport-https, atom, build-essential, caffeine, cheatsheet, code, curl, default-jdk, default-jre, docker, docker.io, eterm, firefox, fish, flux, go, google-chrome, google-chrome-stable, guake, heroku, hyper, insomnia, iterm2, java, mactex, macvim, mongodb, ngrok, node, nodejs, opera, postman, python, python3.6, ruby, ruby-full, rust, software-properties-common, sublime-text, terminator, tilda, torbrowser-launcher, vagrant, vim, visual-studio-code, vlc, zsh\n"
     ]
    }
   ],
   "source": [
    "# get the unique packages from the interpreter\n",
    "packages = sorted(list(interpreter.unique_packages))\n",
    "# remove ./vagrant_2.2.6_x86_64.deb because I dont like how it looks\n",
    "packages.pop(0)\n",
    "print(\"Number of scripts:\", len(interpreter.data))\n",
    "print(\"Number of unique packages:\", len(packages))\n",
    "print(\"Packages:\")\n",
    "print(', '.join(packages))"
   ]
  },
  {
   "cell_type": "markdown",
   "metadata": {},
   "source": [
    "### One hot encode the data\n",
    "Rows are scripts, and columns are unique packages."
   ]
  },
  {
   "cell_type": "code",
   "execution_count": 11,
   "metadata": {},
   "outputs": [],
   "source": [
    "one_hot_data = []\n",
    "\n",
    "for script_data in interpreter.data:\n",
    "    one_hot_scipt = []\n",
    "    for package in packages:\n",
    "        if script_data.contains(package):\n",
    "            one_hot_scipt.append(1)\n",
    "        else:\n",
    "            one_hot_scipt.append(0)\n",
    "    one_hot_data.append(one_hot_scipt)"
   ]
  },
  {
   "cell_type": "markdown",
   "metadata": {},
   "source": [
    "### Add the data to a DataFrame and display it"
   ]
  },
  {
   "cell_type": "code",
   "execution_count": 12,
   "metadata": {},
   "outputs": [
    {
     "data": {
      "text/html": [
       "<div>\n",
       "<style scoped>\n",
       "    .dataframe tbody tr th:only-of-type {\n",
       "        vertical-align: middle;\n",
       "    }\n",
       "\n",
       "    .dataframe tbody tr th {\n",
       "        vertical-align: top;\n",
       "    }\n",
       "\n",
       "    .dataframe thead th {\n",
       "        text-align: right;\n",
       "    }\n",
       "</style>\n",
       "<table border=\"1\" class=\"dataframe\">\n",
       "  <thead>\n",
       "    <tr style=\"text-align: right;\">\n",
       "      <th></th>\n",
       "      <th>apt-transport-https</th>\n",
       "      <th>atom</th>\n",
       "      <th>build-essential</th>\n",
       "      <th>caffeine</th>\n",
       "      <th>cheatsheet</th>\n",
       "      <th>code</th>\n",
       "      <th>curl</th>\n",
       "      <th>default-jdk</th>\n",
       "      <th>default-jre</th>\n",
       "      <th>docker</th>\n",
       "      <th>...</th>\n",
       "      <th>software-properties-common</th>\n",
       "      <th>sublime-text</th>\n",
       "      <th>terminator</th>\n",
       "      <th>tilda</th>\n",
       "      <th>torbrowser-launcher</th>\n",
       "      <th>vagrant</th>\n",
       "      <th>vim</th>\n",
       "      <th>visual-studio-code</th>\n",
       "      <th>vlc</th>\n",
       "      <th>zsh</th>\n",
       "    </tr>\n",
       "  </thead>\n",
       "  <tbody>\n",
       "    <tr>\n",
       "      <td>0</td>\n",
       "      <td>0</td>\n",
       "      <td>1</td>\n",
       "      <td>0</td>\n",
       "      <td>0</td>\n",
       "      <td>0</td>\n",
       "      <td>0</td>\n",
       "      <td>0</td>\n",
       "      <td>0</td>\n",
       "      <td>0</td>\n",
       "      <td>0</td>\n",
       "      <td>...</td>\n",
       "      <td>0</td>\n",
       "      <td>1</td>\n",
       "      <td>0</td>\n",
       "      <td>0</td>\n",
       "      <td>0</td>\n",
       "      <td>0</td>\n",
       "      <td>0</td>\n",
       "      <td>0</td>\n",
       "      <td>0</td>\n",
       "      <td>1</td>\n",
       "    </tr>\n",
       "    <tr>\n",
       "      <td>1</td>\n",
       "      <td>0</td>\n",
       "      <td>1</td>\n",
       "      <td>0</td>\n",
       "      <td>0</td>\n",
       "      <td>0</td>\n",
       "      <td>0</td>\n",
       "      <td>0</td>\n",
       "      <td>0</td>\n",
       "      <td>0</td>\n",
       "      <td>1</td>\n",
       "      <td>...</td>\n",
       "      <td>0</td>\n",
       "      <td>0</td>\n",
       "      <td>0</td>\n",
       "      <td>0</td>\n",
       "      <td>0</td>\n",
       "      <td>0</td>\n",
       "      <td>0</td>\n",
       "      <td>0</td>\n",
       "      <td>0</td>\n",
       "      <td>1</td>\n",
       "    </tr>\n",
       "    <tr>\n",
       "      <td>2</td>\n",
       "      <td>0</td>\n",
       "      <td>1</td>\n",
       "      <td>0</td>\n",
       "      <td>0</td>\n",
       "      <td>0</td>\n",
       "      <td>0</td>\n",
       "      <td>0</td>\n",
       "      <td>0</td>\n",
       "      <td>0</td>\n",
       "      <td>0</td>\n",
       "      <td>...</td>\n",
       "      <td>0</td>\n",
       "      <td>0</td>\n",
       "      <td>0</td>\n",
       "      <td>0</td>\n",
       "      <td>0</td>\n",
       "      <td>0</td>\n",
       "      <td>0</td>\n",
       "      <td>0</td>\n",
       "      <td>0</td>\n",
       "      <td>0</td>\n",
       "    </tr>\n",
       "    <tr>\n",
       "      <td>3</td>\n",
       "      <td>0</td>\n",
       "      <td>1</td>\n",
       "      <td>0</td>\n",
       "      <td>1</td>\n",
       "      <td>0</td>\n",
       "      <td>0</td>\n",
       "      <td>0</td>\n",
       "      <td>0</td>\n",
       "      <td>0</td>\n",
       "      <td>1</td>\n",
       "      <td>...</td>\n",
       "      <td>0</td>\n",
       "      <td>1</td>\n",
       "      <td>0</td>\n",
       "      <td>0</td>\n",
       "      <td>0</td>\n",
       "      <td>0</td>\n",
       "      <td>1</td>\n",
       "      <td>0</td>\n",
       "      <td>0</td>\n",
       "      <td>1</td>\n",
       "    </tr>\n",
       "    <tr>\n",
       "      <td>4</td>\n",
       "      <td>0</td>\n",
       "      <td>0</td>\n",
       "      <td>0</td>\n",
       "      <td>0</td>\n",
       "      <td>0</td>\n",
       "      <td>0</td>\n",
       "      <td>0</td>\n",
       "      <td>0</td>\n",
       "      <td>0</td>\n",
       "      <td>0</td>\n",
       "      <td>...</td>\n",
       "      <td>0</td>\n",
       "      <td>0</td>\n",
       "      <td>0</td>\n",
       "      <td>0</td>\n",
       "      <td>0</td>\n",
       "      <td>0</td>\n",
       "      <td>0</td>\n",
       "      <td>0</td>\n",
       "      <td>0</td>\n",
       "      <td>0</td>\n",
       "    </tr>\n",
       "  </tbody>\n",
       "</table>\n",
       "<p>5 rows × 47 columns</p>\n",
       "</div>"
      ],
      "text/plain": [
       "   apt-transport-https  atom  build-essential  caffeine  cheatsheet  code  \\\n",
       "0                    0     1                0         0           0     0   \n",
       "1                    0     1                0         0           0     0   \n",
       "2                    0     1                0         0           0     0   \n",
       "3                    0     1                0         1           0     0   \n",
       "4                    0     0                0         0           0     0   \n",
       "\n",
       "   curl  default-jdk  default-jre  docker  ...  software-properties-common  \\\n",
       "0     0            0            0       0  ...                           0   \n",
       "1     0            0            0       1  ...                           0   \n",
       "2     0            0            0       0  ...                           0   \n",
       "3     0            0            0       1  ...                           0   \n",
       "4     0            0            0       0  ...                           0   \n",
       "\n",
       "   sublime-text  terminator  tilda  torbrowser-launcher  vagrant  vim  \\\n",
       "0             1           0      0                    0        0    0   \n",
       "1             0           0      0                    0        0    0   \n",
       "2             0           0      0                    0        0    0   \n",
       "3             1           0      0                    0        0    1   \n",
       "4             0           0      0                    0        0    0   \n",
       "\n",
       "   visual-studio-code  vlc  zsh  \n",
       "0                   0    0    1  \n",
       "1                   0    0    1  \n",
       "2                   0    0    0  \n",
       "3                   0    0    1  \n",
       "4                   0    0    0  \n",
       "\n",
       "[5 rows x 47 columns]"
      ]
     },
     "execution_count": 12,
     "metadata": {},
     "output_type": "execute_result"
    }
   ],
   "source": [
    "df = pd.DataFrame(one_hot_data, columns=packages)\n",
    "df.head()"
   ]
  }
 ],
 "metadata": {
  "kernelspec": {
   "display_name": "Python 3",
   "language": "python",
   "name": "python3"
  },
  "language_info": {
   "codemirror_mode": {
    "name": "ipython",
    "version": 3
   },
   "file_extension": ".py",
   "mimetype": "text/x-python",
   "name": "python",
   "nbconvert_exporter": "python",
   "pygments_lexer": "ipython3",
   "version": "3.7.4"
  }
 },
 "nbformat": 4,
 "nbformat_minor": 4
}
