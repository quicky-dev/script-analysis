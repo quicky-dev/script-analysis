{
 "cells": [
  {
   "cell_type": "code",
   "execution_count": 1,
   "metadata": {},
   "outputs": [],
   "source": [
    "import pandas as pd"
   ]
  },
  {
   "cell_type": "code",
   "execution_count": 2,
   "metadata": {},
   "outputs": [],
   "source": [
    "import os\n",
    "from preparation.data_preparation import ScriptInterpreter"
   ]
  },
  {
   "cell_type": "code",
   "execution_count": 3,
   "metadata": {},
   "outputs": [],
   "source": [
    "os.chdir('preparation')"
   ]
  },
  {
   "cell_type": "code",
   "execution_count": 4,
   "metadata": {},
   "outputs": [],
   "source": [
    "interpreter = ScriptInterpreter('/preparation/scripts')\n",
    "\n",
    "interpreter.read_macos_files()\n",
    "interpreter.read_ubuntu_files()"
   ]
  },
  {
   "cell_type": "code",
   "execution_count": 5,
   "metadata": {},
   "outputs": [
    {
     "name": "stdout",
     "output_type": "stream",
     "text": [
      "{'atom', 'google-chrome', 'heroku', 'postman', 'sublime-text', 'zsh', 'iterm2', 'mongodb', 'java'}\n",
      "{'atom', 'go', 'heroku', 'opera', 'rust', 'zsh', 'iterm2', 'mongodb', 'docker', 'python'}\n",
      "{'atom', 'google-chrome', 'fish', 'mactex', 'mongodb', 'hyper', 'python'}\n",
      "{'atom', 'go', 'google-chrome', 'postman', 'heroku', 'caffeine', 'sublime-text', 'node', 'rust', 'zsh', 'fish', 'mongodb', 'hyper', 'python', 'docker', 'vim'}\n",
      "{'node'}\n",
      "{'go', 'google-chrome', 'node', 'rust', 'iterm2', 'fish', 'python'}\n",
      "{'go', 'node', 'iterm2', 'fish', 'hyper', 'python'}\n",
      "{'go', 'ruby', 'java', 'google-chrome', 'insomnia', 'macvim', 'heroku', 'node', 'rust', 'fish', 'mongodb', 'hyper', 'python'}\n",
      "{'node'}\n",
      "{'hyper', 'fish', 'go'}\n",
      "{'docker', 'heroku'}\n",
      "{'flux', 'go', 'google-chrome', 'caffeine', 'node', 'zsh', 'iterm2', 'python'}\n",
      "{'visual-studio-code', 'google-chrome', 'ruby', 'heroku', 'python', 'vagrant', 'zsh', 'mongodb', 'java'}\n",
      "{'flux', 'visual-studio-code', 'google-chrome', 'go', 'heroku', 'postman', 'cheatsheet', 'zsh', 'iterm2', 'mongodb', 'python', 'firefox', 'vim'}\n",
      "{'node'}\n",
      "{'node'}\n",
      "{'java'}\n",
      "{'atom', 'google-chrome', 'fish', 'mactex', 'mongodb', 'hyper', 'python'}\n",
      "{'atom', 'go', 'ruby', 'node', 'rust', 'ngrok', 'iterm2', 'fish', 'python', 'firefox'}\n",
      "{'visual-studio-code', 'google-chrome', 'heroku', 'node', 'python', 'zsh', 'iterm2', 'mongodb', 'docker', 'java'}\n",
      "{'google-chrome-stable', 'docker.io', 'heroku', 'postman', 'nodejs', 'curl', 'zsh', 'torbrowser-launcher', 'vim', 'code', 'software-properties-common', 'mongodb', 'apt-transport-https', 'python3.6'}\n",
      "{'curl', 'software-properties-common'}\n",
      "{'default-jre', 'default-jdk', 'guake', 'build-essential', 'curl', 'nodejs', 'torbrowser-launcher', 'software-properties-common', 'apt-transport-https', 'tilda'}\n",
      "{'ruby-full', 'default-jre', 'default-jdk', 'nodejs', 'curl', 'software-properties-common', 'eterm', 'tilda', 'python3.6'}\n",
      "set()\n",
      "set()\n",
      "{'ruby-full', 'insomnia', 'guake', './vagrant_2.2.6_x86_64.deb', 'build-essential', 'curl', 'zsh', 'torbrowser-launcher', 'code', 'software-properties-common', 'mongodb', 'vlc', 'apt-transport-https', 'tilda'}\n",
      "{'curl', 'software-properties-common'}\n",
      "{'ruby-full', 'terminator', 'default-jre', 'default-jdk', 'guake', 'build-essential', 'curl', 'software-properties-common', 'python3.6'}\n",
      "{'ruby-full', 'default-jre', 'default-jdk', 'build-essential', 'curl', 'nodejs', 'code', 'software-properties-common', 'apt-transport-https'}\n",
      "{'ruby-full', 'build-essential', 'curl', 'nodejs', 'software-properties-common'}\n",
      "{'curl', 'software-properties-common'}\n",
      "set()\n",
      "{'curl', 'software-properties-common'}\n",
      "{'ruby-full', 'guake', 'sublime-text', 'build-essential', 'curl', 'fish', 'software-properties-common', 'tilda', 'vim'}\n",
      "{'default-jre', 'default-jdk', 'curl', 'software-properties-common', 'tilda'}\n",
      "{'google-chrome-stable', 'curl', 'software-properties-common', 'vim', 'python3.6'}\n"
     ]
    }
   ],
   "source": [
    "for script_data in interpreter.data:\n",
    "    print(script_data.packages)"
   ]
  },
  {
   "cell_type": "code",
   "execution_count": 6,
   "metadata": {},
   "outputs": [
    {
     "data": {
      "text/plain": [
       "37"
      ]
     },
     "execution_count": 6,
     "metadata": {},
     "output_type": "execute_result"
    }
   ],
   "source": [
    "len(interpreter.data)"
   ]
  },
  {
   "cell_type": "code",
   "execution_count": 7,
   "metadata": {},
   "outputs": [
    {
     "data": {
      "text/plain": [
       "47"
      ]
     },
     "execution_count": 7,
     "metadata": {},
     "output_type": "execute_result"
    }
   ],
   "source": [
    "packages = sorted(list(interpreter.unique_packages))\n",
    "packages.pop(0)\n",
    "len(packages)"
   ]
  },
  {
   "cell_type": "code",
   "execution_count": 8,
   "metadata": {},
   "outputs": [
    {
     "data": {
      "text/plain": [
       "37"
      ]
     },
     "execution_count": 8,
     "metadata": {},
     "output_type": "execute_result"
    }
   ],
   "source": [
    "one_hot_data = []\n",
    "\n",
    "for script_data in interpreter.data:\n",
    "    one_hot_scipt = []\n",
    "    for package in packages:\n",
    "        if script_data.contains(package):\n",
    "            one_hot_scipt.append(1)\n",
    "        else:\n",
    "            one_hot_scipt.append(0)\n",
    "    one_hot_data.append(one_hot_scipt)\n",
    "\n",
    "len(one_hot_data)"
   ]
  },
  {
   "cell_type": "code",
   "execution_count": 9,
   "metadata": {},
   "outputs": [
    {
     "data": {
      "text/html": [
       "<div>\n",
       "<style scoped>\n",
       "    .dataframe tbody tr th:only-of-type {\n",
       "        vertical-align: middle;\n",
       "    }\n",
       "\n",
       "    .dataframe tbody tr th {\n",
       "        vertical-align: top;\n",
       "    }\n",
       "\n",
       "    .dataframe thead th {\n",
       "        text-align: right;\n",
       "    }\n",
       "</style>\n",
       "<table border=\"1\" class=\"dataframe\">\n",
       "  <thead>\n",
       "    <tr style=\"text-align: right;\">\n",
       "      <th></th>\n",
       "      <th>apt-transport-https</th>\n",
       "      <th>atom</th>\n",
       "      <th>build-essential</th>\n",
       "      <th>caffeine</th>\n",
       "      <th>cheatsheet</th>\n",
       "      <th>code</th>\n",
       "      <th>curl</th>\n",
       "      <th>default-jdk</th>\n",
       "      <th>default-jre</th>\n",
       "      <th>docker</th>\n",
       "      <th>...</th>\n",
       "      <th>software-properties-common</th>\n",
       "      <th>sublime-text</th>\n",
       "      <th>terminator</th>\n",
       "      <th>tilda</th>\n",
       "      <th>torbrowser-launcher</th>\n",
       "      <th>vagrant</th>\n",
       "      <th>vim</th>\n",
       "      <th>visual-studio-code</th>\n",
       "      <th>vlc</th>\n",
       "      <th>zsh</th>\n",
       "    </tr>\n",
       "  </thead>\n",
       "  <tbody>\n",
       "    <tr>\n",
       "      <td>0</td>\n",
       "      <td>0</td>\n",
       "      <td>1</td>\n",
       "      <td>0</td>\n",
       "      <td>0</td>\n",
       "      <td>0</td>\n",
       "      <td>0</td>\n",
       "      <td>0</td>\n",
       "      <td>0</td>\n",
       "      <td>0</td>\n",
       "      <td>0</td>\n",
       "      <td>...</td>\n",
       "      <td>0</td>\n",
       "      <td>1</td>\n",
       "      <td>0</td>\n",
       "      <td>0</td>\n",
       "      <td>0</td>\n",
       "      <td>0</td>\n",
       "      <td>0</td>\n",
       "      <td>0</td>\n",
       "      <td>0</td>\n",
       "      <td>1</td>\n",
       "    </tr>\n",
       "    <tr>\n",
       "      <td>1</td>\n",
       "      <td>0</td>\n",
       "      <td>1</td>\n",
       "      <td>0</td>\n",
       "      <td>0</td>\n",
       "      <td>0</td>\n",
       "      <td>0</td>\n",
       "      <td>0</td>\n",
       "      <td>0</td>\n",
       "      <td>0</td>\n",
       "      <td>1</td>\n",
       "      <td>...</td>\n",
       "      <td>0</td>\n",
       "      <td>0</td>\n",
       "      <td>0</td>\n",
       "      <td>0</td>\n",
       "      <td>0</td>\n",
       "      <td>0</td>\n",
       "      <td>0</td>\n",
       "      <td>0</td>\n",
       "      <td>0</td>\n",
       "      <td>1</td>\n",
       "    </tr>\n",
       "    <tr>\n",
       "      <td>2</td>\n",
       "      <td>0</td>\n",
       "      <td>1</td>\n",
       "      <td>0</td>\n",
       "      <td>0</td>\n",
       "      <td>0</td>\n",
       "      <td>0</td>\n",
       "      <td>0</td>\n",
       "      <td>0</td>\n",
       "      <td>0</td>\n",
       "      <td>0</td>\n",
       "      <td>...</td>\n",
       "      <td>0</td>\n",
       "      <td>0</td>\n",
       "      <td>0</td>\n",
       "      <td>0</td>\n",
       "      <td>0</td>\n",
       "      <td>0</td>\n",
       "      <td>0</td>\n",
       "      <td>0</td>\n",
       "      <td>0</td>\n",
       "      <td>0</td>\n",
       "    </tr>\n",
       "    <tr>\n",
       "      <td>3</td>\n",
       "      <td>0</td>\n",
       "      <td>1</td>\n",
       "      <td>0</td>\n",
       "      <td>1</td>\n",
       "      <td>0</td>\n",
       "      <td>0</td>\n",
       "      <td>0</td>\n",
       "      <td>0</td>\n",
       "      <td>0</td>\n",
       "      <td>1</td>\n",
       "      <td>...</td>\n",
       "      <td>0</td>\n",
       "      <td>1</td>\n",
       "      <td>0</td>\n",
       "      <td>0</td>\n",
       "      <td>0</td>\n",
       "      <td>0</td>\n",
       "      <td>1</td>\n",
       "      <td>0</td>\n",
       "      <td>0</td>\n",
       "      <td>1</td>\n",
       "    </tr>\n",
       "    <tr>\n",
       "      <td>4</td>\n",
       "      <td>0</td>\n",
       "      <td>0</td>\n",
       "      <td>0</td>\n",
       "      <td>0</td>\n",
       "      <td>0</td>\n",
       "      <td>0</td>\n",
       "      <td>0</td>\n",
       "      <td>0</td>\n",
       "      <td>0</td>\n",
       "      <td>0</td>\n",
       "      <td>...</td>\n",
       "      <td>0</td>\n",
       "      <td>0</td>\n",
       "      <td>0</td>\n",
       "      <td>0</td>\n",
       "      <td>0</td>\n",
       "      <td>0</td>\n",
       "      <td>0</td>\n",
       "      <td>0</td>\n",
       "      <td>0</td>\n",
       "      <td>0</td>\n",
       "    </tr>\n",
       "  </tbody>\n",
       "</table>\n",
       "<p>5 rows × 47 columns</p>\n",
       "</div>"
      ],
      "text/plain": [
       "   apt-transport-https  atom  build-essential  caffeine  cheatsheet  code  \\\n",
       "0                    0     1                0         0           0     0   \n",
       "1                    0     1                0         0           0     0   \n",
       "2                    0     1                0         0           0     0   \n",
       "3                    0     1                0         1           0     0   \n",
       "4                    0     0                0         0           0     0   \n",
       "\n",
       "   curl  default-jdk  default-jre  docker  ...  software-properties-common  \\\n",
       "0     0            0            0       0  ...                           0   \n",
       "1     0            0            0       1  ...                           0   \n",
       "2     0            0            0       0  ...                           0   \n",
       "3     0            0            0       1  ...                           0   \n",
       "4     0            0            0       0  ...                           0   \n",
       "\n",
       "   sublime-text  terminator  tilda  torbrowser-launcher  vagrant  vim  \\\n",
       "0             1           0      0                    0        0    0   \n",
       "1             0           0      0                    0        0    0   \n",
       "2             0           0      0                    0        0    0   \n",
       "3             1           0      0                    0        0    1   \n",
       "4             0           0      0                    0        0    0   \n",
       "\n",
       "   visual-studio-code  vlc  zsh  \n",
       "0                   0    0    1  \n",
       "1                   0    0    1  \n",
       "2                   0    0    0  \n",
       "3                   0    0    1  \n",
       "4                   0    0    0  \n",
       "\n",
       "[5 rows x 47 columns]"
      ]
     },
     "execution_count": 9,
     "metadata": {},
     "output_type": "execute_result"
    }
   ],
   "source": [
    "df = pd.DataFrame(one_hot_data, columns=packages)\n",
    "df.head()"
   ]
  }
 ],
 "metadata": {
  "kernelspec": {
   "display_name": "Python 3",
   "language": "python",
   "name": "python3"
  },
  "language_info": {
   "codemirror_mode": {
    "name": "ipython",
    "version": 3
   },
   "file_extension": ".py",
   "mimetype": "text/x-python",
   "name": "python",
   "nbconvert_exporter": "python",
   "pygments_lexer": "ipython3",
   "version": "3.7.4"
  }
 },
 "nbformat": 4,
 "nbformat_minor": 4
}
